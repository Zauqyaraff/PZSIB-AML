{
  "cells": [
    {
      "cell_type": "markdown",
      "metadata": {
        "id": "view-in-github",
        "colab_type": "text"
      },
      "source": [
        "<a href=\"https://colab.research.google.com/github/Zauqyaraff/PZSIB-AML/blob/main/Topic_3_4_Zauqy_Affan_Raff.ipynb\" target=\"_parent\"><img src=\"https://colab.research.google.com/assets/colab-badge.svg\" alt=\"Open In Colab\"/></a>"
      ]
    },
    {
      "cell_type": "markdown",
      "metadata": {
        "id": "f6LjKU50-tD8"
      },
      "source": [
        "##Topic 3 - Python Structure & Data Type Assignment\n"
      ]
    },
    {
      "cell_type": "markdown",
      "metadata": {
        "id": "MPuR878HZEbx"
      },
      "source": [
        "# Data Type Declaration"
      ]
    },
    {
      "cell_type": "markdown",
      "metadata": {
        "id": "GyS5I54D-3K9"
      },
      "source": [
        "1. > Create an empty variable (Points : 5)"
      ]
    },
    {
      "cell_type": "code",
      "execution_count": null,
      "metadata": {
        "id": "jehesBY-_aKL",
        "colab": {
          "base_uri": "https://localhost:8080/"
        },
        "outputId": "66ee5caa-2249-45ac-e8cf-84ba35589b63"
      },
      "outputs": [
        {
          "output_type": "stream",
          "name": "stdout",
          "text": [
            "None\n"
          ]
        }
      ],
      "source": [
        "var = None\n",
        "print (var)"
      ]
    },
    {
      "cell_type": "markdown",
      "metadata": {
        "id": "6zCz3qZ8_bu2"
      },
      "source": [
        "2. > Create a variable containing your name (Points : 5)"
      ]
    },
    {
      "cell_type": "code",
      "execution_count": null,
      "metadata": {
        "id": "1wT8jnI6_f-U",
        "colab": {
          "base_uri": "https://localhost:8080/"
        },
        "outputId": "64afddeb-87ad-424c-bfa4-5ed4adeec7d6"
      },
      "outputs": [
        {
          "output_type": "stream",
          "name": "stdout",
          "text": [
            "Zauqy Affan Raff\n"
          ]
        }
      ],
      "source": [
        "myname = 'Zauqy Affan Raff'\n",
        "print (myname)"
      ]
    },
    {
      "cell_type": "markdown",
      "metadata": {
        "id": "ApatE8m__2Ud"
      },
      "source": [
        "3. > Create a list of 5 items you can find in the classroom (Points : 5)"
      ]
    },
    {
      "cell_type": "code",
      "execution_count": null,
      "metadata": {
        "id": "-Q0Ynqx1_6hF",
        "colab": {
          "base_uri": "https://localhost:8080/"
        },
        "outputId": "d46c92c9-932d-428c-b6eb-db2a9d7e7684"
      },
      "outputs": [
        {
          "output_type": "stream",
          "name": "stdout",
          "text": [
            "['meja', 'kursi', 'papan tulis', 'spidol', 'buku']\n"
          ]
        }
      ],
      "source": [
        "# List items in the classroom\n",
        "item_list = ['meja','kursi','papan tulis','spidol','buku']\n",
        "print (item_list)"
      ]
    },
    {
      "cell_type": "markdown",
      "metadata": {
        "id": "6FwMmy_9AS5N"
      },
      "source": [
        "4. > Create a dictionary containing 2 keys and value (Points : 5)"
      ]
    },
    {
      "cell_type": "code",
      "execution_count": null,
      "metadata": {
        "id": "xLc2AlhtASOm",
        "colab": {
          "base_uri": "https://localhost:8080/"
        },
        "outputId": "edc842cf-a667-4b5f-e860-90432bc2a83c"
      },
      "outputs": [
        {
          "output_type": "stream",
          "name": "stdout",
          "text": [
            "{'Adam': [1, 2, 3], 'Levin': [1, 2, 3]}\n"
          ]
        }
      ],
      "source": [
        "new_list = [1,2,3]\n",
        "\n",
        "my_dict = {\"Adam\" : new_list, \"Levin\" : new_list}\n",
        "print(my_dict)"
      ]
    },
    {
      "cell_type": "markdown",
      "metadata": {
        "id": "6AqPfAS7a1Oi"
      },
      "source": [
        "# Basic Data Operation"
      ]
    },
    {
      "cell_type": "markdown",
      "metadata": {
        "id": "-ZZF1cXlbqkJ"
      },
      "source": [
        "You sold 20 pieces of electronics at the price of 12000. The customer gets a total discount of 10%.\n",
        "\n",
        "Below are those variables:\n",
        "\n",
        "1.   price=12000\n",
        "2.   quantity_sold=20\n",
        "3.   discount=10%\n",
        "\n",
        "\n",
        "Using Python code, write the code the find the total money that the customer to pay. (Points : 15)"
      ]
    },
    {
      "cell_type": "code",
      "execution_count": null,
      "metadata": {
        "id": "90T0A2HvbcCK",
        "colab": {
          "base_uri": "https://localhost:8080/"
        },
        "outputId": "add8edee-2462-4eb8-b0ce-6f48e5d3b082"
      },
      "outputs": [
        {
          "output_type": "stream",
          "name": "stdout",
          "text": [
            "Discount : 24000.0\n",
            "Total Cost : 216000.0\n"
          ]
        }
      ],
      "source": [
        "# p = price, q = quantity_sold, d = discount\n",
        "p = 12000\n",
        "q = 20\n",
        "d = 0.1\n",
        "d_value = p*q*d\n",
        "z = p*q-d_value\n",
        "print(\"Discount :\", d_value)\n",
        "print(\"Total Cost :\", z)"
      ]
    },
    {
      "cell_type": "markdown",
      "metadata": {
        "id": "G-HHsg4la6mJ"
      },
      "source": [
        "# List Data Operation"
      ]
    },
    {
      "cell_type": "markdown",
      "metadata": {
        "id": "NdoSjVZ4Zbqg"
      },
      "source": [
        "5. > Follow the instructions in the code blocks\n",
        "\n",
        "\n",
        "\n"
      ]
    },
    {
      "cell_type": "code",
      "execution_count": null,
      "metadata": {
        "id": "xsFxlZGLaQ7y"
      },
      "outputs": [],
      "source": [
        "# Create list of countries in the world (total 7 countries) (Points : 5)\n",
        "\n",
        "country = ['Indonesia', 'Australia', 'United Kingdom', 'USA', 'Egypt','Singapore','Japan']"
      ]
    },
    {
      "cell_type": "code",
      "execution_count": null,
      "metadata": {
        "id": "6Se125DabJ6R",
        "colab": {
          "base_uri": "https://localhost:8080/"
        },
        "outputId": "4fdd0df1-c743-41f2-bc22-e31179debee7"
      },
      "outputs": [
        {
          "output_type": "stream",
          "name": "stdout",
          "text": [
            "['Indonesia', 'Australia', 'United Kingdom', 'USA']\n"
          ]
        }
      ],
      "source": [
        "# Get 4 countries from the first index of the list (Points : 5)\n",
        "\n",
        "print(country[0:4])"
      ]
    },
    {
      "cell_type": "code",
      "execution_count": null,
      "metadata": {
        "id": "FSU5QfExbKAh",
        "colab": {
          "base_uri": "https://localhost:8080/"
        },
        "outputId": "98a4f9ad-fd2d-4289-a8dc-fbd2c4698360"
      },
      "outputs": [
        {
          "output_type": "stream",
          "name": "stdout",
          "text": [
            "['Indonesia', 'Australia', 'United Kingdom', 'USA', 'Egypt', 'Singapore', 'Japan', 'Vietnam']\n"
          ]
        }
      ],
      "source": [
        "# Append new country to the list (Points : 5)\n",
        "\n",
        "country.append('Vietnam')\n",
        "print(country)"
      ]
    },
    {
      "cell_type": "code",
      "execution_count": null,
      "metadata": {
        "id": "DlvXbKlnbKGR",
        "colab": {
          "base_uri": "https://localhost:8080/"
        },
        "outputId": "bb8881ed-ad43-4476-8afd-bd07738b69a5"
      },
      "outputs": [
        {
          "output_type": "stream",
          "name": "stdout",
          "text": [
            "['Indonesia', 'Australia', 'USA', 'Egypt', 'Singapore', 'Japan', 'Vietnam']\n"
          ]
        }
      ],
      "source": [
        "# Drop one country from the list (Points : 5)\n",
        "\n",
        "del country[2]\n",
        "print(country)"
      ]
    },
    {
      "cell_type": "code",
      "execution_count": null,
      "metadata": {
        "id": "F1NJ6JCQbKJ7",
        "colab": {
          "base_uri": "https://localhost:8080/"
        },
        "outputId": "87ae11d0-72ab-4798-f785-979976bab5a1"
      },
      "outputs": [
        {
          "output_type": "stream",
          "name": "stdout",
          "text": [
            "Vietnam\n"
          ]
        }
      ],
      "source": [
        "# Get country in the last index (Points : 5)\n",
        "\n",
        "print(country[-1])"
      ]
    },
    {
      "cell_type": "markdown",
      "metadata": {
        "id": "Kfkq-SmIdJR6"
      },
      "source": [
        "# Dictionary Data Operation"
      ]
    },
    {
      "cell_type": "markdown",
      "metadata": {
        "id": "WyJ8CJzdeMiS"
      },
      "source": [
        "6. >  Follow the instructions below\n",
        "\n",
        "\n",
        "\n"
      ]
    },
    {
      "cell_type": "code",
      "execution_count": null,
      "metadata": {
        "id": "fVHYIKLwdMfq"
      },
      "outputs": [],
      "source": [
        "# Given the dictionary below\n",
        "\n",
        "customer={\n",
        "    \"name\":['Dio','Eka','Wayu','Riki'],\n",
        "    \"age\":[20,19,24,39],\n",
        "    \"gender\":[1,0,0,1],\n",
        "    \"membership\":['Platinum','Gold','Silver','Silver']\n",
        "}"
      ]
    },
    {
      "cell_type": "code",
      "execution_count": null,
      "metadata": {
        "id": "LpRVtz4_eJK5",
        "colab": {
          "base_uri": "https://localhost:8080/"
        },
        "outputId": "d3d6aa16-52c1-41b7-f296-a09a8bb9566c"
      },
      "outputs": [
        {
          "output_type": "stream",
          "name": "stdout",
          "text": [
            "dict_keys(['name', 'age', 'gender', 'membership'])\n"
          ]
        }
      ],
      "source": [
        "# Print all keys in customer (Points : 5)\n",
        "\n",
        "print(customer.keys())"
      ]
    },
    {
      "cell_type": "code",
      "execution_count": null,
      "metadata": {
        "id": "QiEMM94FeYrz",
        "colab": {
          "base_uri": "https://localhost:8080/"
        },
        "outputId": "6cb9b97b-9644-48a7-fa13-e7f2dbf12c98"
      },
      "outputs": [
        {
          "output_type": "stream",
          "name": "stdout",
          "text": [
            "['Dio', 'Eka', 'Wayu', 'Riki']\n"
          ]
        }
      ],
      "source": [
        "# Print all customer names (Points : 5)\n",
        "\n",
        "print(customer[\"name\"])"
      ]
    },
    {
      "cell_type": "code",
      "execution_count": null,
      "metadata": {
        "id": "P2SeErUGgQ-D",
        "colab": {
          "base_uri": "https://localhost:8080/"
        },
        "outputId": "108d9aed-0116-4dfa-bf77-d43ad052c48d"
      },
      "outputs": [
        {
          "output_type": "stream",
          "name": "stdout",
          "text": [
            "Dio\n"
          ]
        }
      ],
      "source": [
        "# Print the first customer name (Points : 5)\n",
        "\n",
        "print(customer[\"name\"][0])"
      ]
    },
    {
      "cell_type": "code",
      "execution_count": null,
      "metadata": {
        "id": "c3PlmHxueiPy",
        "colab": {
          "base_uri": "https://localhost:8080/"
        },
        "outputId": "04bc6ca0-eba4-4da5-8a5f-194eb253576a"
      },
      "outputs": [
        {
          "output_type": "stream",
          "name": "stdout",
          "text": [
            "dict_keys(['name', 'gender', 'membership'])\n"
          ]
        }
      ],
      "source": [
        "# Drop \"age\" key from the dictionary (Points : 5)\n",
        "\n",
        "del customer[\"age\"]\n",
        "print(customer.keys())"
      ]
    },
    {
      "cell_type": "code",
      "execution_count": null,
      "metadata": {
        "id": "FgXDh9mIea9x",
        "colab": {
          "base_uri": "https://localhost:8080/"
        },
        "outputId": "84590bdb-fb62-47d2-8e97-f64b5721c22d"
      },
      "outputs": [
        {
          "output_type": "stream",
          "name": "stdout",
          "text": [
            "['Male', 'Female', 'Female', 'Male']\n"
          ]
        }
      ],
      "source": [
        "# Replace customer gender list value (Points : 20)\n",
        "# gender 1 => Male\n",
        "# gender 0 => Female \n",
        "\n",
        "\n",
        "for i in range(len(customer[\"gender\"])):\n",
        "  \n",
        "    # Replace gender 1 => Male\n",
        "    if customer[\"gender\"][i] == 1 :\n",
        "        customer[\"gender\"][i] = 'Male'\n",
        "  \n",
        "    # Replace gender 0 => Female\n",
        "    if customer[\"gender\"][i] == 0 :\n",
        "        customer[\"gender\"][i] = 'Female'\n",
        "  \n",
        "# print list\n",
        "print(customer[\"gender\"])"
      ]
    }
  ],
  "metadata": {
    "colab": {
      "collapsed_sections": [],
      "provenance": [],
      "include_colab_link": true
    },
    "kernelspec": {
      "display_name": "Python 3 (ipykernel)",
      "language": "python",
      "name": "python3"
    },
    "language_info": {
      "codemirror_mode": {
        "name": "ipython",
        "version": 3
      },
      "file_extension": ".py",
      "mimetype": "text/x-python",
      "name": "python",
      "nbconvert_exporter": "python",
      "pygments_lexer": "ipython3",
      "version": "3.9.12"
    }
  },
  "nbformat": 4,
  "nbformat_minor": 0
}