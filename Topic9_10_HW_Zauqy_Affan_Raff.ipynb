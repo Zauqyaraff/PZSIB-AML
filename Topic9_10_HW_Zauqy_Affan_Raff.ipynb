{
  "cells": [
    {
      "cell_type": "markdown",
      "metadata": {
        "id": "view-in-github",
        "colab_type": "text"
      },
      "source": [
        "<a href=\"https://colab.research.google.com/github/Zauqyaraff/PZSIB-AML/blob/main/Topic9_10_HW_Zauqy_Affan_Raff.ipynb\" target=\"_parent\"><img src=\"https://colab.research.google.com/assets/colab-badge.svg\" alt=\"Open In Colab\"/></a>"
      ]
    },
    {
      "cell_type": "markdown",
      "id": "7bcf144b",
      "metadata": {
        "id": "7bcf144b"
      },
      "source": [
        "#### Import package"
      ]
    },
    {
      "cell_type": "code",
      "execution_count": 1,
      "id": "42575bd7",
      "metadata": {
        "id": "42575bd7"
      },
      "outputs": [],
      "source": [
        "import scipy.stats as stats\n",
        "import pandas as pd\n",
        "import numpy as np"
      ]
    },
    {
      "cell_type": "markdown",
      "id": "1f0e64cb",
      "metadata": {
        "id": "1f0e64cb"
      },
      "source": [
        "Make a list of the number of transactions for 20 customers as listed in the pdf file"
      ]
    },
    {
      "cell_type": "code",
      "execution_count": 2,
      "id": "ca245697",
      "metadata": {
        "colab": {
          "base_uri": "https://localhost:8080/"
        },
        "id": "ca245697",
        "outputId": "64885853-3861-43b5-b2e1-82c49d911d89"
      },
      "outputs": [
        {
          "output_type": "execute_result",
          "data": {
            "text/plain": [
              "array([  0, 150,  50, 100, 130, 120, 100, 110,  75,  65, 150, 120,  50,\n",
              "       100, 100, 140,  90, 150,  50,  90])"
            ]
          },
          "metadata": {},
          "execution_count": 2
        }
      ],
      "source": [
        "data = np.array([0, 150, 50, 100, 130, 120, 100, 110, 75, 65, 150, 120, 50, 100, 100, 140, 90, 150, 50, 90])\n",
        "data"
      ]
    },
    {
      "cell_type": "markdown",
      "id": "08c136eb",
      "metadata": {
        "id": "08c136eb"
      },
      "source": [
        "#### Define H0 and H1, follow the steps to do T-test, and conclude the result of the campaign testing"
      ]
    },
    {
      "cell_type": "code",
      "execution_count": 3,
      "id": "3fce6d2c",
      "metadata": {
        "colab": {
          "base_uri": "https://localhost:8080/"
        },
        "id": "3fce6d2c",
        "outputId": "3ff93405-e1f9-46c6-8511-f9c62c030bb2"
      },
      "outputs": [
        {
          "output_type": "stream",
          "name": "stdout",
          "text": [
            "-0.3361296649141257 0.7404567835122086\n"
          ]
        }
      ],
      "source": [
        "#H0 = The average sale after training = $100\n",
        "#H1 = The average sale after training > $100\n",
        "\n",
        "t_statistic, p_value = stats.ttest_1samp(a=data, popmean=100)\n",
        "print(t_statistic , p_value)"
      ]
    },
    {
      "cell_type": "markdown",
      "id": "cf0e69d7",
      "metadata": {
        "id": "cf0e69d7"
      },
      "source": [
        "Statistic is 0.3361296649141257 and pvalue is 0.7404567835122086. Because the pvalue for the given problem is more than 0.05 or 5% which is the alpha value, we accept the H0 while H1 is rejected. Conclusion: The average sale after training is equal to $100, so the campaign was not effective."
      ]
    },
    {
      "cell_type": "code",
      "execution_count": 4,
      "id": "54a46bdd",
      "metadata": {
        "colab": {
          "base_uri": "https://localhost:8080/"
        },
        "id": "54a46bdd",
        "outputId": "60d47a20-6dfd-4144-a902-ca74e2d03f5b"
      },
      "outputs": [
        {
          "output_type": "execute_result",
          "data": {
            "text/plain": [
              "2.093024054408263"
            ]
          },
          "metadata": {},
          "execution_count": 4
        }
      ],
      "source": [
        "#Two tailed test:\n",
        "stats.t.ppf(1-(0.05/2), 19)"
      ]
    },
    {
      "cell_type": "markdown",
      "id": "7666858d",
      "metadata": {
        "id": "7666858d"
      },
      "source": [
        "Critical Region: t < - 2.09 or t > 2.09. Because t statistic is not in the critical region, then we fail to reject H0. Conclusion: The average sale after training is equal to $100, so the campaign was not effective."
      ]
    },
    {
      "cell_type": "code",
      "execution_count": 5,
      "id": "191ceb2e",
      "metadata": {
        "colab": {
          "base_uri": "https://localhost:8080/"
        },
        "id": "191ceb2e",
        "outputId": "304c0e73-fe4a-4d5a-bac0-103bbbe1927f"
      },
      "outputs": [
        {
          "output_type": "execute_result",
          "data": {
            "text/plain": [
              "0.3702283917561043"
            ]
          },
          "metadata": {},
          "execution_count": 5
        }
      ],
      "source": [
        "#One tailed test:\n",
        "p_value/2"
      ]
    },
    {
      "cell_type": "markdown",
      "id": "4b0b2caa",
      "metadata": {
        "id": "4b0b2caa"
      },
      "source": [
        "P-value/2 larger than alpha, meaning we fail to reject H0. Conclusion: The average sale after training is equal to $100, so the campaign was not effective."
      ]
    },
    {
      "cell_type": "code",
      "execution_count": 6,
      "id": "3b7ac53d",
      "metadata": {
        "colab": {
          "base_uri": "https://localhost:8080/"
        },
        "id": "3b7ac53d",
        "outputId": "265548ff-e691-404d-d597-68053e41edf8"
      },
      "outputs": [
        {
          "output_type": "execute_result",
          "data": {
            "text/plain": [
              "1.729132811521367"
            ]
          },
          "metadata": {},
          "execution_count": 6
        }
      ],
      "source": [
        "#Critical Region\n",
        "# If H1: mean > 100 (right side)\n",
        "stats.t.ppf(1-0.05, 19)"
      ]
    },
    {
      "cell_type": "markdown",
      "id": "8eeb0772",
      "metadata": {
        "id": "8eeb0772"
      },
      "source": [
        "Critical Region: t > 1.73. Because t statistic is not in the critical region, then we fail to reject H0. Conclusion: The average sale after training is equal to $100, so the campaign was not effective."
      ]
    },
    {
      "cell_type": "code",
      "execution_count": 7,
      "id": "84cd41a4",
      "metadata": {
        "colab": {
          "base_uri": "https://localhost:8080/"
        },
        "id": "84cd41a4",
        "outputId": "74c0ad25-06d0-4615-d9a7-c591256ca464"
      },
      "outputs": [
        {
          "output_type": "execute_result",
          "data": {
            "text/plain": [
              "-1.7291328115213678"
            ]
          },
          "metadata": {},
          "execution_count": 7
        }
      ],
      "source": [
        "# If H1: mean < 50 (left side)\n",
        "stats.t.ppf(0.05, 19)"
      ]
    },
    {
      "cell_type": "markdown",
      "id": "2b55909b",
      "metadata": {
        "id": "2b55909b"
      },
      "source": [
        "Critical Region: t < -1.73. Because t statistic is not in the critical region, then we fail to reject H0. Conclusion: The average sale after training is equal to $100, so the campaign was not effective."
      ]
    }
  ],
  "metadata": {
    "kernelspec": {
      "display_name": "Python 3 (ipykernel)",
      "language": "python",
      "name": "python3"
    },
    "language_info": {
      "codemirror_mode": {
        "name": "ipython",
        "version": 3
      },
      "file_extension": ".py",
      "mimetype": "text/x-python",
      "name": "python",
      "nbconvert_exporter": "python",
      "pygments_lexer": "ipython3",
      "version": "3.9.12"
    },
    "colab": {
      "provenance": [],
      "include_colab_link": true
    }
  },
  "nbformat": 4,
  "nbformat_minor": 5
}