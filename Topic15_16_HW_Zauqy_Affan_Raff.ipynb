{
  "cells": [
    {
      "cell_type": "markdown",
      "metadata": {
        "id": "view-in-github",
        "colab_type": "text"
      },
      "source": [
        "<a href=\"https://colab.research.google.com/github/Zauqyaraff/PZSIB-AML/blob/main/Topic15_16_HW_Zauqy_Affan_Raff.ipynb\" target=\"_parent\"><img src=\"https://colab.research.google.com/assets/colab-badge.svg\" alt=\"Open In Colab\"/></a>"
      ]
    },
    {
      "cell_type": "markdown",
      "id": "1854e224",
      "metadata": {
        "id": "1854e224"
      },
      "source": [
        "## Unsupervised ML Python Homework"
      ]
    },
    {
      "cell_type": "code",
      "execution_count": 5,
      "id": "19e2e47b",
      "metadata": {
        "id": "19e2e47b"
      },
      "outputs": [],
      "source": [
        "import numpy as np\n",
        "import pandas as pd\n",
        "import sklearn\n",
        "import sys\n",
        "import warnings\n",
        "import os\n",
        "if not sys.warnoptions:\n",
        "    warnings.simplefilter(\"ignore\")\n",
        "    os.environ[\"PYTHONWARNINGS\"] = \"ignore\" \n",
        "\n",
        "import matplotlib.pyplot as plt\n",
        "import seaborn as sns\n",
        "import time\n",
        "\n",
        "\n",
        "from sklearn.decomposition import PCA\n",
        "\n",
        "import numpy as np\n",
        "import pandas as pd\n",
        "\n",
        "from sklearn.cluster import KMeans\n",
        "from sklearn.metrics import silhouette_samples, silhouette_score\n",
        "\n",
        "import matplotlib.pyplot as plt\n",
        "import matplotlib.cm as cm\n",
        "import seaborn as sns"
      ]
    },
    {
      "cell_type": "code",
      "execution_count": 6,
      "id": "4ee45efc",
      "metadata": {
        "colab": {
          "base_uri": "https://localhost:8080/",
          "height": 488
        },
        "id": "4ee45efc",
        "outputId": "206041be-5671-496c-c40d-61dd8d1d21c9"
      },
      "outputs": [
        {
          "output_type": "execute_result",
          "data": {
            "text/plain": [
              "             0          1          2          3          4          5  \\\n",
              "0     3.737848  -1.646325  -7.810163  11.995504  -2.807248  -0.085124   \n",
              "1    -6.024396  -0.488319   4.315504   0.650888 -14.594512  -2.801084   \n",
              "2     0.490949 -10.487436  -9.045535   0.129481   3.977727  -7.615191   \n",
              "3   -13.087377   7.845202  21.154323   7.971816 -13.379182   1.204298   \n",
              "4    -7.171991  13.705993  11.057470  14.073451  -7.947617  -4.637308   \n",
              "..         ...        ...        ...        ...        ...        ...   \n",
              "995  -3.471686  12.940466   8.508031  19.479180  -3.637595   3.513321   \n",
              "996  -7.518274   6.128470  11.750514   3.632682 -17.542199  -1.025005   \n",
              "997   8.765803 -10.063699  -2.102178   8.809839  -3.357467  -5.563186   \n",
              "998  -0.688375  -2.251089 -16.099880  -5.961233  -2.604041 -12.876690   \n",
              "999 -13.771790  12.651611  -1.466062  11.393960   2.384552   6.142792   \n",
              "\n",
              "             6         7          8          9         10         11  \\\n",
              "0     2.255992  1.746520  -9.256078   1.693435 -19.772970   9.750907   \n",
              "1    10.649474  6.087658  10.845574   5.494591  10.725055   2.933646   \n",
              "2   -12.787071  6.416582  11.013078  -5.251267  -5.692146   0.834205   \n",
              "3     5.592174 -3.450956   6.537270   5.360073   5.689761   3.148839   \n",
              "4     6.351615 -6.814010  -2.483272   4.279979   9.275197 -18.018556   \n",
              "..         ...       ...        ...        ...        ...        ...   \n",
              "995  12.118536  0.347570   5.111509  -3.054912   5.697629   7.516148   \n",
              "996  10.457185 -5.062221   6.447733   1.171539  -2.275978   8.270251   \n",
              "997   1.583849 -0.648160   7.130244  -5.364986 -12.926855  -2.191091   \n",
              "998 -23.101496 -4.899372  13.612339 -15.022254  -8.881761 -13.294057   \n",
              "999   7.592562  2.344954  -7.759845   0.454261  -8.568974  12.048261   \n",
              "\n",
              "            12         13         14         15         16        17  \\\n",
              "0     4.551802  -7.251561   5.099425   2.270202  -8.097061 -6.058829   \n",
              "1   -12.785655  -9.768811 -14.827223  -6.423245   8.097094  1.899088   \n",
              "2     3.299760   3.082884  -5.425403   6.274120 -11.407726 -5.886591   \n",
              "3     3.416195 -16.175695   1.531479   5.373013   1.643889  1.227602   \n",
              "4    -3.428444  -5.252267  -6.693149  -4.172268   6.079671  7.918299   \n",
              "..         ...        ...        ...        ...        ...       ...   \n",
              "995 -10.959986  -8.098598  -5.641822   2.220350  12.026172  5.860314   \n",
              "996 -15.710402 -12.621179 -15.950729  -9.878082  12.856359  0.787886   \n",
              "997  18.516239   3.508759  -3.534441   8.934743 -15.085670  5.897779   \n",
              "998  11.791521   5.684052 -12.296774 -10.716805  -4.355119 -9.737902   \n",
              "999  -0.450576  -5.445609  -3.165241  -4.608183   5.482402 -8.084182   \n",
              "\n",
              "            18         19  \n",
              "0    -3.268958   2.623776  \n",
              "1     0.376761  -3.531153  \n",
              "2     3.365510  23.723555  \n",
              "3     3.878080  12.262810  \n",
              "4     5.047994   4.019611  \n",
              "..         ...        ...  \n",
              "995   3.439185  -0.963639  \n",
              "996   3.381137   0.173625  \n",
              "997  -3.473376   8.841673  \n",
              "998  12.584078  14.301682  \n",
              "999   9.353145  -1.872055  \n",
              "\n",
              "[1000 rows x 20 columns]"
            ],
            "text/html": [
              "\n",
              "  <div id=\"df-6a8f47a7-b246-4e60-9939-fcb8f0b84b97\">\n",
              "    <div class=\"colab-df-container\">\n",
              "      <div>\n",
              "<style scoped>\n",
              "    .dataframe tbody tr th:only-of-type {\n",
              "        vertical-align: middle;\n",
              "    }\n",
              "\n",
              "    .dataframe tbody tr th {\n",
              "        vertical-align: top;\n",
              "    }\n",
              "\n",
              "    .dataframe thead th {\n",
              "        text-align: right;\n",
              "    }\n",
              "</style>\n",
              "<table border=\"1\" class=\"dataframe\">\n",
              "  <thead>\n",
              "    <tr style=\"text-align: right;\">\n",
              "      <th></th>\n",
              "      <th>0</th>\n",
              "      <th>1</th>\n",
              "      <th>2</th>\n",
              "      <th>3</th>\n",
              "      <th>4</th>\n",
              "      <th>5</th>\n",
              "      <th>6</th>\n",
              "      <th>7</th>\n",
              "      <th>8</th>\n",
              "      <th>9</th>\n",
              "      <th>10</th>\n",
              "      <th>11</th>\n",
              "      <th>12</th>\n",
              "      <th>13</th>\n",
              "      <th>14</th>\n",
              "      <th>15</th>\n",
              "      <th>16</th>\n",
              "      <th>17</th>\n",
              "      <th>18</th>\n",
              "      <th>19</th>\n",
              "    </tr>\n",
              "  </thead>\n",
              "  <tbody>\n",
              "    <tr>\n",
              "      <th>0</th>\n",
              "      <td>3.737848</td>\n",
              "      <td>-1.646325</td>\n",
              "      <td>-7.810163</td>\n",
              "      <td>11.995504</td>\n",
              "      <td>-2.807248</td>\n",
              "      <td>-0.085124</td>\n",
              "      <td>2.255992</td>\n",
              "      <td>1.746520</td>\n",
              "      <td>-9.256078</td>\n",
              "      <td>1.693435</td>\n",
              "      <td>-19.772970</td>\n",
              "      <td>9.750907</td>\n",
              "      <td>4.551802</td>\n",
              "      <td>-7.251561</td>\n",
              "      <td>5.099425</td>\n",
              "      <td>2.270202</td>\n",
              "      <td>-8.097061</td>\n",
              "      <td>-6.058829</td>\n",
              "      <td>-3.268958</td>\n",
              "      <td>2.623776</td>\n",
              "    </tr>\n",
              "    <tr>\n",
              "      <th>1</th>\n",
              "      <td>-6.024396</td>\n",
              "      <td>-0.488319</td>\n",
              "      <td>4.315504</td>\n",
              "      <td>0.650888</td>\n",
              "      <td>-14.594512</td>\n",
              "      <td>-2.801084</td>\n",
              "      <td>10.649474</td>\n",
              "      <td>6.087658</td>\n",
              "      <td>10.845574</td>\n",
              "      <td>5.494591</td>\n",
              "      <td>10.725055</td>\n",
              "      <td>2.933646</td>\n",
              "      <td>-12.785655</td>\n",
              "      <td>-9.768811</td>\n",
              "      <td>-14.827223</td>\n",
              "      <td>-6.423245</td>\n",
              "      <td>8.097094</td>\n",
              "      <td>1.899088</td>\n",
              "      <td>0.376761</td>\n",
              "      <td>-3.531153</td>\n",
              "    </tr>\n",
              "    <tr>\n",
              "      <th>2</th>\n",
              "      <td>0.490949</td>\n",
              "      <td>-10.487436</td>\n",
              "      <td>-9.045535</td>\n",
              "      <td>0.129481</td>\n",
              "      <td>3.977727</td>\n",
              "      <td>-7.615191</td>\n",
              "      <td>-12.787071</td>\n",
              "      <td>6.416582</td>\n",
              "      <td>11.013078</td>\n",
              "      <td>-5.251267</td>\n",
              "      <td>-5.692146</td>\n",
              "      <td>0.834205</td>\n",
              "      <td>3.299760</td>\n",
              "      <td>3.082884</td>\n",
              "      <td>-5.425403</td>\n",
              "      <td>6.274120</td>\n",
              "      <td>-11.407726</td>\n",
              "      <td>-5.886591</td>\n",
              "      <td>3.365510</td>\n",
              "      <td>23.723555</td>\n",
              "    </tr>\n",
              "    <tr>\n",
              "      <th>3</th>\n",
              "      <td>-13.087377</td>\n",
              "      <td>7.845202</td>\n",
              "      <td>21.154323</td>\n",
              "      <td>7.971816</td>\n",
              "      <td>-13.379182</td>\n",
              "      <td>1.204298</td>\n",
              "      <td>5.592174</td>\n",
              "      <td>-3.450956</td>\n",
              "      <td>6.537270</td>\n",
              "      <td>5.360073</td>\n",
              "      <td>5.689761</td>\n",
              "      <td>3.148839</td>\n",
              "      <td>3.416195</td>\n",
              "      <td>-16.175695</td>\n",
              "      <td>1.531479</td>\n",
              "      <td>5.373013</td>\n",
              "      <td>1.643889</td>\n",
              "      <td>1.227602</td>\n",
              "      <td>3.878080</td>\n",
              "      <td>12.262810</td>\n",
              "    </tr>\n",
              "    <tr>\n",
              "      <th>4</th>\n",
              "      <td>-7.171991</td>\n",
              "      <td>13.705993</td>\n",
              "      <td>11.057470</td>\n",
              "      <td>14.073451</td>\n",
              "      <td>-7.947617</td>\n",
              "      <td>-4.637308</td>\n",
              "      <td>6.351615</td>\n",
              "      <td>-6.814010</td>\n",
              "      <td>-2.483272</td>\n",
              "      <td>4.279979</td>\n",
              "      <td>9.275197</td>\n",
              "      <td>-18.018556</td>\n",
              "      <td>-3.428444</td>\n",
              "      <td>-5.252267</td>\n",
              "      <td>-6.693149</td>\n",
              "      <td>-4.172268</td>\n",
              "      <td>6.079671</td>\n",
              "      <td>7.918299</td>\n",
              "      <td>5.047994</td>\n",
              "      <td>4.019611</td>\n",
              "    </tr>\n",
              "    <tr>\n",
              "      <th>...</th>\n",
              "      <td>...</td>\n",
              "      <td>...</td>\n",
              "      <td>...</td>\n",
              "      <td>...</td>\n",
              "      <td>...</td>\n",
              "      <td>...</td>\n",
              "      <td>...</td>\n",
              "      <td>...</td>\n",
              "      <td>...</td>\n",
              "      <td>...</td>\n",
              "      <td>...</td>\n",
              "      <td>...</td>\n",
              "      <td>...</td>\n",
              "      <td>...</td>\n",
              "      <td>...</td>\n",
              "      <td>...</td>\n",
              "      <td>...</td>\n",
              "      <td>...</td>\n",
              "      <td>...</td>\n",
              "      <td>...</td>\n",
              "    </tr>\n",
              "    <tr>\n",
              "      <th>995</th>\n",
              "      <td>-3.471686</td>\n",
              "      <td>12.940466</td>\n",
              "      <td>8.508031</td>\n",
              "      <td>19.479180</td>\n",
              "      <td>-3.637595</td>\n",
              "      <td>3.513321</td>\n",
              "      <td>12.118536</td>\n",
              "      <td>0.347570</td>\n",
              "      <td>5.111509</td>\n",
              "      <td>-3.054912</td>\n",
              "      <td>5.697629</td>\n",
              "      <td>7.516148</td>\n",
              "      <td>-10.959986</td>\n",
              "      <td>-8.098598</td>\n",
              "      <td>-5.641822</td>\n",
              "      <td>2.220350</td>\n",
              "      <td>12.026172</td>\n",
              "      <td>5.860314</td>\n",
              "      <td>3.439185</td>\n",
              "      <td>-0.963639</td>\n",
              "    </tr>\n",
              "    <tr>\n",
              "      <th>996</th>\n",
              "      <td>-7.518274</td>\n",
              "      <td>6.128470</td>\n",
              "      <td>11.750514</td>\n",
              "      <td>3.632682</td>\n",
              "      <td>-17.542199</td>\n",
              "      <td>-1.025005</td>\n",
              "      <td>10.457185</td>\n",
              "      <td>-5.062221</td>\n",
              "      <td>6.447733</td>\n",
              "      <td>1.171539</td>\n",
              "      <td>-2.275978</td>\n",
              "      <td>8.270251</td>\n",
              "      <td>-15.710402</td>\n",
              "      <td>-12.621179</td>\n",
              "      <td>-15.950729</td>\n",
              "      <td>-9.878082</td>\n",
              "      <td>12.856359</td>\n",
              "      <td>0.787886</td>\n",
              "      <td>3.381137</td>\n",
              "      <td>0.173625</td>\n",
              "    </tr>\n",
              "    <tr>\n",
              "      <th>997</th>\n",
              "      <td>8.765803</td>\n",
              "      <td>-10.063699</td>\n",
              "      <td>-2.102178</td>\n",
              "      <td>8.809839</td>\n",
              "      <td>-3.357467</td>\n",
              "      <td>-5.563186</td>\n",
              "      <td>1.583849</td>\n",
              "      <td>-0.648160</td>\n",
              "      <td>7.130244</td>\n",
              "      <td>-5.364986</td>\n",
              "      <td>-12.926855</td>\n",
              "      <td>-2.191091</td>\n",
              "      <td>18.516239</td>\n",
              "      <td>3.508759</td>\n",
              "      <td>-3.534441</td>\n",
              "      <td>8.934743</td>\n",
              "      <td>-15.085670</td>\n",
              "      <td>5.897779</td>\n",
              "      <td>-3.473376</td>\n",
              "      <td>8.841673</td>\n",
              "    </tr>\n",
              "    <tr>\n",
              "      <th>998</th>\n",
              "      <td>-0.688375</td>\n",
              "      <td>-2.251089</td>\n",
              "      <td>-16.099880</td>\n",
              "      <td>-5.961233</td>\n",
              "      <td>-2.604041</td>\n",
              "      <td>-12.876690</td>\n",
              "      <td>-23.101496</td>\n",
              "      <td>-4.899372</td>\n",
              "      <td>13.612339</td>\n",
              "      <td>-15.022254</td>\n",
              "      <td>-8.881761</td>\n",
              "      <td>-13.294057</td>\n",
              "      <td>11.791521</td>\n",
              "      <td>5.684052</td>\n",
              "      <td>-12.296774</td>\n",
              "      <td>-10.716805</td>\n",
              "      <td>-4.355119</td>\n",
              "      <td>-9.737902</td>\n",
              "      <td>12.584078</td>\n",
              "      <td>14.301682</td>\n",
              "    </tr>\n",
              "    <tr>\n",
              "      <th>999</th>\n",
              "      <td>-13.771790</td>\n",
              "      <td>12.651611</td>\n",
              "      <td>-1.466062</td>\n",
              "      <td>11.393960</td>\n",
              "      <td>2.384552</td>\n",
              "      <td>6.142792</td>\n",
              "      <td>7.592562</td>\n",
              "      <td>2.344954</td>\n",
              "      <td>-7.759845</td>\n",
              "      <td>0.454261</td>\n",
              "      <td>-8.568974</td>\n",
              "      <td>12.048261</td>\n",
              "      <td>-0.450576</td>\n",
              "      <td>-5.445609</td>\n",
              "      <td>-3.165241</td>\n",
              "      <td>-4.608183</td>\n",
              "      <td>5.482402</td>\n",
              "      <td>-8.084182</td>\n",
              "      <td>9.353145</td>\n",
              "      <td>-1.872055</td>\n",
              "    </tr>\n",
              "  </tbody>\n",
              "</table>\n",
              "<p>1000 rows × 20 columns</p>\n",
              "</div>\n",
              "      <button class=\"colab-df-convert\" onclick=\"convertToInteractive('df-6a8f47a7-b246-4e60-9939-fcb8f0b84b97')\"\n",
              "              title=\"Convert this dataframe to an interactive table.\"\n",
              "              style=\"display:none;\">\n",
              "        \n",
              "  <svg xmlns=\"http://www.w3.org/2000/svg\" height=\"24px\"viewBox=\"0 0 24 24\"\n",
              "       width=\"24px\">\n",
              "    <path d=\"M0 0h24v24H0V0z\" fill=\"none\"/>\n",
              "    <path d=\"M18.56 5.44l.94 2.06.94-2.06 2.06-.94-2.06-.94-.94-2.06-.94 2.06-2.06.94zm-11 1L8.5 8.5l.94-2.06 2.06-.94-2.06-.94L8.5 2.5l-.94 2.06-2.06.94zm10 10l.94 2.06.94-2.06 2.06-.94-2.06-.94-.94-2.06-.94 2.06-2.06.94z\"/><path d=\"M17.41 7.96l-1.37-1.37c-.4-.4-.92-.59-1.43-.59-.52 0-1.04.2-1.43.59L10.3 9.45l-7.72 7.72c-.78.78-.78 2.05 0 2.83L4 21.41c.39.39.9.59 1.41.59.51 0 1.02-.2 1.41-.59l7.78-7.78 2.81-2.81c.8-.78.8-2.07 0-2.86zM5.41 20L4 18.59l7.72-7.72 1.47 1.35L5.41 20z\"/>\n",
              "  </svg>\n",
              "      </button>\n",
              "      \n",
              "  <style>\n",
              "    .colab-df-container {\n",
              "      display:flex;\n",
              "      flex-wrap:wrap;\n",
              "      gap: 12px;\n",
              "    }\n",
              "\n",
              "    .colab-df-convert {\n",
              "      background-color: #E8F0FE;\n",
              "      border: none;\n",
              "      border-radius: 50%;\n",
              "      cursor: pointer;\n",
              "      display: none;\n",
              "      fill: #1967D2;\n",
              "      height: 32px;\n",
              "      padding: 0 0 0 0;\n",
              "      width: 32px;\n",
              "    }\n",
              "\n",
              "    .colab-df-convert:hover {\n",
              "      background-color: #E2EBFA;\n",
              "      box-shadow: 0px 1px 2px rgba(60, 64, 67, 0.3), 0px 1px 3px 1px rgba(60, 64, 67, 0.15);\n",
              "      fill: #174EA6;\n",
              "    }\n",
              "\n",
              "    [theme=dark] .colab-df-convert {\n",
              "      background-color: #3B4455;\n",
              "      fill: #D2E3FC;\n",
              "    }\n",
              "\n",
              "    [theme=dark] .colab-df-convert:hover {\n",
              "      background-color: #434B5C;\n",
              "      box-shadow: 0px 1px 3px 1px rgba(0, 0, 0, 0.15);\n",
              "      filter: drop-shadow(0px 1px 2px rgba(0, 0, 0, 0.3));\n",
              "      fill: #FFFFFF;\n",
              "    }\n",
              "  </style>\n",
              "\n",
              "      <script>\n",
              "        const buttonEl =\n",
              "          document.querySelector('#df-6a8f47a7-b246-4e60-9939-fcb8f0b84b97 button.colab-df-convert');\n",
              "        buttonEl.style.display =\n",
              "          google.colab.kernel.accessAllowed ? 'block' : 'none';\n",
              "\n",
              "        async function convertToInteractive(key) {\n",
              "          const element = document.querySelector('#df-6a8f47a7-b246-4e60-9939-fcb8f0b84b97');\n",
              "          const dataTable =\n",
              "            await google.colab.kernel.invokeFunction('convertToInteractive',\n",
              "                                                     [key], {});\n",
              "          if (!dataTable) return;\n",
              "\n",
              "          const docLinkHtml = 'Like what you see? Visit the ' +\n",
              "            '<a target=\"_blank\" href=https://colab.research.google.com/notebooks/data_table.ipynb>data table notebook</a>'\n",
              "            + ' to learn more about interactive tables.';\n",
              "          element.innerHTML = '';\n",
              "          dataTable['output_type'] = 'display_data';\n",
              "          await google.colab.output.renderOutput(dataTable, element);\n",
              "          const docLink = document.createElement('div');\n",
              "          docLink.innerHTML = docLinkHtml;\n",
              "          element.appendChild(docLink);\n",
              "        }\n",
              "      </script>\n",
              "    </div>\n",
              "  </div>\n",
              "  "
            ]
          },
          "metadata": {},
          "execution_count": 6
        }
      ],
      "source": [
        "url = 'https://raw.githubusercontent.com/Zauqyaraff/PZSIB-AML/main/unsupervised_ml_homework_data.csv'\n",
        "data = pd.read_csv(url)\n",
        "data"
      ]
    },
    {
      "cell_type": "markdown",
      "id": "5d57c5f6",
      "metadata": {
        "id": "5d57c5f6"
      },
      "source": [
        "### Soal 1: PCA"
      ]
    },
    {
      "cell_type": "markdown",
      "id": "814b4ae8",
      "metadata": {
        "id": "814b4ae8"
      },
      "source": [
        "Instruksi:\n",
        "1. Lakukan PCA pada data yang telah di-import di cell atas.\n",
        "2. Ketentuan PCA: Ambil sampai threshold explained variancenya 0.8 (80%)\n",
        "3. Berapa Principal Components yang diambil?\n",
        "4. Simpan data hasil PCA karena data hasil PCA ini akan digunakan di Soal 2: K-Means"
      ]
    },
    {
      "cell_type": "code",
      "execution_count": 7,
      "id": "96d64187",
      "metadata": {
        "id": "96d64187"
      },
      "outputs": [],
      "source": [
        "### Kode PCA dimulai disini"
      ]
    },
    {
      "cell_type": "code",
      "execution_count": 8,
      "id": "ec004f48",
      "metadata": {
        "id": "ec004f48"
      },
      "outputs": [],
      "source": [
        "# Data split\n",
        "X = data.iloc[:, 0:19].values\n",
        "y = data.iloc[:, 19].values\n",
        "from sklearn.model_selection import train_test_split\n",
        "  \n",
        "X_train, X_test, y_train, y_test = train_test_split(X, y, test_size = 0.2, random_state = 0)"
      ]
    },
    {
      "cell_type": "code",
      "execution_count": 9,
      "id": "d7b57a54",
      "metadata": {
        "colab": {
          "base_uri": "https://localhost:8080/"
        },
        "id": "d7b57a54",
        "outputId": "c62023f1-8c33-46bf-8829-039dcd33cddd"
      },
      "outputs": [
        {
          "output_type": "stream",
          "name": "stdout",
          "text": [
            "X_train shape: (800, 19)\n",
            "y_train shape: (800,)\n",
            "X_test shape: (200, 19)\n",
            "y_test shape: (200,)\n"
          ]
        }
      ],
      "source": [
        "#Shape of data split result\n",
        "print('X_train shape:', X_train.shape)\n",
        "print('y_train shape:', y_train.shape)\n",
        "print('X_test shape:', X_test.shape)\n",
        "print('y_test shape:', y_test.shape)"
      ]
    },
    {
      "cell_type": "code",
      "execution_count": 10,
      "id": "ea23f2f3",
      "metadata": {
        "id": "ea23f2f3"
      },
      "outputs": [],
      "source": [
        "# PCA of X_train and X_test with 80% explained variance\n",
        "from sklearn.decomposition import PCA\n",
        "pca_8 = PCA(0.8)"
      ]
    },
    {
      "cell_type": "code",
      "execution_count": 11,
      "id": "72b375b2",
      "metadata": {
        "id": "72b375b2"
      },
      "outputs": [],
      "source": [
        "start_time = time.time()\n",
        "pca_8.fit(X_train)\n",
        "x_train_pca_8 = pca_8.transform(X_train)\n",
        "x_test_pca_8 = pca_8.transform(X_test)\n",
        "finish_time = time.time()"
      ]
    },
    {
      "cell_type": "code",
      "execution_count": 12,
      "id": "12a5ee4f",
      "metadata": {
        "colab": {
          "base_uri": "https://localhost:8080/"
        },
        "id": "12a5ee4f",
        "outputId": "bb57a467-2c50-4916-cf1d-9d5def719ab6"
      },
      "outputs": [
        {
          "output_type": "stream",
          "name": "stdout",
          "text": [
            "PCA Fit and Transform finished in 0.03609347343444824 seconds.\n",
            "Hanya tersisa: 12 feature columns setelah dlakukan PCA.\n",
            "PCA kali ini berhasil mereduksi dataset sebanyak 36.8421052631579 persen\n",
            "x_train_pca_8 shape: (800, 12)\n"
          ]
        }
      ],
      "source": [
        "#Result of PCA\n",
        "print('PCA Fit and Transform finished in', finish_time - start_time, 'seconds.')\n",
        "print('Hanya tersisa:', pca_8.n_components_, 'feature columns setelah dlakukan PCA.')\n",
        "print('PCA kali ini berhasil mereduksi dataset sebanyak', (1-(pca_8.n_components_/19))*100, 'persen')\n",
        "print('x_train_pca_8 shape:', x_train_pca_8.shape)"
      ]
    },
    {
      "cell_type": "code",
      "execution_count": 13,
      "id": "4778f651",
      "metadata": {
        "colab": {
          "base_uri": "https://localhost:8080/",
          "height": 265
        },
        "id": "4778f651",
        "outputId": "b1eb6646-d22c-45d2-82e7-72bdd1b735cd"
      },
      "outputs": [
        {
          "output_type": "display_data",
          "data": {
            "text/plain": [
              "<Figure size 432x288 with 1 Axes>"
            ],
            "image/png": "[encoded data removed]"
          },
          "metadata": {
            "needs_background": "light"
          }
        }
      ],
      "source": [
        "plt.plot(np.cumsum(pca_8.explained_variance_ratio_))\n",
        "plt.show()"
      ]
    },
    {
      "cell_type": "markdown",
      "id": "3811b3d1",
      "metadata": {
        "id": "3811b3d1"
      },
      "source": [
        "##### Jawab: Hasil PCA adalah mengambil 12 Principal Components."
      ]
    },
    {
      "cell_type": "markdown",
      "id": "9d628c85",
      "metadata": {
        "id": "9d628c85"
      },
      "source": [
        "### Soal 2: K Means"
      ]
    },
    {
      "cell_type": "markdown",
      "id": "9e172fc0",
      "metadata": {
        "id": "9e172fc0"
      },
      "source": [
        "Instruksi:\n",
        "1. Dari data yang sudah di-PCA-kan (jadi datanya sudah baru ya, bukan data original lagi, ingat, data yang sudah di-PCA-kan), kita akan menentukan k = ?? yang paling ideal untuk clustering.\n",
        "2. Lakukan Elbow dan Silhouette method\n",
        "3. Visualisasikan hasil Elbow dan Silhouette method\n",
        "4. Berapa nilai k yang terbaik? "
      ]
    },
    {
      "cell_type": "code",
      "execution_count": 14,
      "id": "4953b6f7",
      "metadata": {
        "id": "4953b6f7"
      },
      "outputs": [],
      "source": [
        "import numpy as np\n",
        "import pandas as pd\n",
        "\n",
        "from sklearn.cluster import KMeans\n",
        "from sklearn.metrics import silhouette_samples, silhouette_score\n",
        "from sklearn.preprocessing import StandardScaler\n",
        "\n",
        "import matplotlib.pyplot as plt\n",
        "import matplotlib.cm as cm\n",
        "import seaborn as sns"
      ]
    },
    {
      "cell_type": "code",
      "execution_count": 15,
      "id": "ccf104c7",
      "metadata": {
        "colab": {
          "base_uri": "https://localhost:8080/"
        },
        "id": "ccf104c7",
        "outputId": "175ed053-8402-4329-9ea0-16fbb33eea18"
      },
      "outputs": [
        {
          "output_type": "execute_result",
          "data": {
            "text/plain": [
              "array([[-10.73437783, -15.27352122,  -2.93735717,   1.75067743,\n",
              "        -10.36213555,  -3.44998591,  -0.88506642,  -0.60212226,\n",
              "         -8.29453032,   5.14482072,  -1.30775126,  -6.22154152],\n",
              "       [ -1.71819857,  16.32284858,  -3.3151975 ,  -0.58772514,\n",
              "          0.83569501,  -3.36274686,  -3.86335941,   1.5397735 ,\n",
              "          3.79520256, -11.897105  ,   9.40785974,  -0.86732754]])"
            ]
          },
          "metadata": {},
          "execution_count": 15
        }
      ],
      "source": [
        "# Elbow Method\n",
        "#Pick column 3 and 4 for features\n",
        "x = x_train_pca_8[[3,4]]\n",
        "x"
      ]
    },
    {
      "cell_type": "code",
      "execution_count": 16,
      "id": "3145d246",
      "metadata": {
        "colab": {
          "base_uri": "https://localhost:8080/"
        },
        "id": "3145d246",
        "outputId": "f1f20c34-551c-41a2-f927-6b14f2bfa820"
      },
      "outputs": [
        {
          "output_type": "execute_result",
          "data": {
            "text/plain": [
              "(2, 12)"
            ]
          },
          "metadata": {},
          "execution_count": 16
        }
      ],
      "source": [
        "x.shape"
      ]
    },
    {
      "cell_type": "code",
      "execution_count": 17,
      "id": "ac3282e9",
      "metadata": {
        "id": "ac3282e9"
      },
      "outputs": [],
      "source": [
        "# Reshape so there'll be no error\n",
        "x1 = x.reshape(-1, 1)"
      ]
    },
    {
      "cell_type": "code",
      "execution_count": 18,
      "id": "5c99c30d",
      "metadata": {
        "colab": {
          "base_uri": "https://localhost:8080/"
        },
        "id": "5c99c30d",
        "outputId": "00d74d60-d56e-4ca2-cfc3-c953ac172ca2"
      },
      "outputs": [
        {
          "output_type": "execute_result",
          "data": {
            "text/plain": [
              "(24, 1)"
            ]
          },
          "metadata": {},
          "execution_count": 18
        }
      ],
      "source": [
        "x1.shape"
      ]
    },
    {
      "cell_type": "code",
      "execution_count": 19,
      "id": "eef9840f",
      "metadata": {
        "id": "eef9840f"
      },
      "outputs": [],
      "source": [
        "# Elbow\n",
        "score = []\n",
        "\n",
        "for cluster in range(1,11):\n",
        "    kmeans = KMeans(n_clusters = cluster)\n",
        "    scaled_data = StandardScaler().fit_transform(x1)\n",
        "    kmeans.fit(scaled_data)\n",
        "    score.append(kmeans.inertia_)"
      ]
    },
    {
      "cell_type": "code",
      "execution_count": 20,
      "id": "e590e883",
      "metadata": {
        "colab": {
          "base_uri": "https://localhost:8080/",
          "height": 295
        },
        "id": "e590e883",
        "outputId": "c37288fd-6705-4bba-f99f-76e7ea336c0b"
      },
      "outputs": [
        {
          "output_type": "display_data",
          "data": {
            "text/plain": [
              "<Figure size 432x288 with 1 Axes>"
            ],
            "image/png": "[encoded data removed]"
          },
          "metadata": {
            "needs_background": "light"
          }
        }
      ],
      "source": [
        "# Plot the score\n",
        "plt.plot(range(1,11), score)\n",
        "plt.title('The Elbow Method')\n",
        "plt.xlabel('no of clusters')\n",
        "plt.ylabel('wcss')\n",
        "plt.show()"
      ]
    },
    {
      "cell_type": "code",
      "execution_count": 21,
      "id": "6ef458a5",
      "metadata": {
        "colab": {
          "base_uri": "https://localhost:8080/",
          "height": 279
        },
        "id": "6ef458a5",
        "outputId": "e42aa8a2-e19d-4d42-eece-693a555450d0"
      },
      "outputs": [
        {
          "output_type": "display_data",
          "data": {
            "text/plain": [
              "<Figure size 432x288 with 1 Axes>"
            ],
            "image/png": "[encoded data removed]"
          },
          "metadata": {
            "needs_background": "light"
          }
        }
      ],
      "source": [
        "# Silhouette score\n",
        "silhouette_coefficients = []\n",
        "from sklearn.metrics import silhouette_score\n",
        "\n",
        "# Start at 2 clusters for silhouette coefficient for silhoutte score\n",
        "for k in range(2, 11):\n",
        "    kmeans = KMeans(n_clusters=k)\n",
        "    scaled_data = StandardScaler().fit_transform(x1)\n",
        "    kmeans.fit(scaled_data)\n",
        "    score = silhouette_score(scaled_data, kmeans.labels_)\n",
        "    silhouette_coefficients.append(score)\n",
        "\n",
        "# Plot the coefficients    \n",
        "plt.plot(range(2, 11), silhouette_coefficients)\n",
        "plt.xticks(range(2, 11))\n",
        "plt.xlabel(\"Number of Clusters\")\n",
        "plt.ylabel(\"Silhouette Coefficient\")\n",
        "plt.show()"
      ]
    },
    {
      "cell_type": "markdown",
      "id": "c58bed15",
      "metadata": {
        "id": "c58bed15"
      },
      "source": [
        "'Elbow' terjadi di k = 3 dan k = 4, sedangkan nilai Silhouette tertinggi ada di k = 3. \n",
        "\n",
        "Berarti, kita bisa berasumsi bahwa k = 3 menjadi 'k' yang paling ideal dalam k-Means ini."
      ]
    },
    {
      "cell_type": "markdown",
      "id": "034820dc",
      "metadata": {
        "id": "034820dc"
      },
      "source": [
        "##### Jawab: Nilai k yang terbaik berdasarkan Elbow dan Silhouette method adalah k = 3. 'Elbow' terjadi di k = 3 dan k= 4, sedangkan nilai Silhouette tertinggi ada di k = 3. "
      ]
    }
  ],
  "metadata": {
    "kernelspec": {
      "display_name": "Python 3 (ipykernel)",
      "language": "python",
      "name": "python3"
    },
    "language_info": {
      "codemirror_mode": {
        "name": "ipython",
        "version": 3
      },
      "file_extension": ".py",
      "mimetype": "text/x-python",
      "name": "python",
      "nbconvert_exporter": "python",
      "pygments_lexer": "ipython3",
      "version": "3.9.12"
    },
    "colab": {
      "provenance": [],
      "include_colab_link": true
    }
  },
  "nbformat": 4,
  "nbformat_minor": 5
}